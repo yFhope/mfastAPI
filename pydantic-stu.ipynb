{
 "cells": [
  {
   "cell_type": "markdown",
   "source": [
    "参考链接：https://segmentfault.com/a/1190000044856508"
   ],
   "metadata": {
    "collapsed": false
   },
   "id": "b25dc1f27361859f"
  },
  {
   "cell_type": "markdown",
   "source": [
    "### 基础数据验证 - 类型验证"
   ],
   "metadata": {
    "collapsed": false
   },
   "id": "59b5b9e4149c7191"
  },
  {
   "cell_type": "code",
   "execution_count": 11,
   "outputs": [],
   "source": [
    "from pydantic import BaseModel\n",
    "\n",
    "class User(BaseModel):\n",
    "    id: int\n",
    "    username: str\n",
    "    email: str"
   ],
   "metadata": {
    "collapsed": false,
    "ExecuteTime": {
     "end_time": "2024-06-26T15:02:29.964006900Z",
     "start_time": "2024-06-26T15:02:29.947008Z"
    }
   },
   "id": "initial_id"
  },
  {
   "cell_type": "code",
   "execution_count": 12,
   "outputs": [
    {
     "name": "stdout",
     "output_type": "stream",
     "text": [
      "id=111 username='john_doe' email='john.doe@example.com'\n"
     ]
    }
   ],
   "source": [
    "# 创建用户对象并进行基础数据验证  -> 验证数据类型\n",
    "user_data = {\"id\": 111, \"username\": \"john_doe\", \"email\": \"john.doe@example.com\"}\n",
    "# 错误数据 \n",
    "# user_data = {\"id\": 111, \"username\": 666, \"email\": \"john.doe@example.com\"}\n",
    "user = User(**user_data)  # 数据类型不匹配时会抛出异常\n",
    "print(user)"
   ],
   "metadata": {
    "collapsed": false,
    "ExecuteTime": {
     "end_time": "2024-06-26T15:02:30.198569900Z",
     "start_time": "2024-06-26T15:02:30.184932400Z"
    }
   },
   "id": "d711dd1101a7776c"
  },
  {
   "cell_type": "code",
   "execution_count": null,
   "outputs": [],
   "source": [],
   "metadata": {
    "collapsed": false
   },
   "id": "26f2bfba64d48bd8"
  },
  {
   "cell_type": "markdown",
   "source": [
    "### 数据序列化 & 反序列化"
   ],
   "metadata": {
    "collapsed": false
   },
   "id": "543b517be89f5bbb"
  },
  {
   "cell_type": "code",
   "execution_count": 13,
   "outputs": [],
   "source": [
    "from pydantic import BaseModel\n",
    "\n",
    "class User(BaseModel):\n",
    "    id: int\n",
    "    username: str\n",
    "    email: str"
   ],
   "metadata": {
    "collapsed": false,
    "ExecuteTime": {
     "end_time": "2024-06-26T15:03:03.720886400Z",
     "start_time": "2024-06-26T15:03:03.704884100Z"
    }
   },
   "id": "6c7a64ab37ed8156"
  },
  {
   "cell_type": "code",
   "execution_count": 14,
   "outputs": [
    {
     "data": {
      "text/plain": "'{\"id\":1,\"username\":\"john_doe\",\"email\":\"john.doe@example.com\"}'"
     },
     "execution_count": 14,
     "metadata": {},
     "output_type": "execute_result"
    }
   ],
   "source": [
    "# todo pydantic库可以将数据序列化为JSON等格式\n",
    "user_data = {\"id\": 1, \"username\": \"john_doe\", \"email\": \"john.doe@example.com\"}\n",
    "user = User(**user_data)\n",
    "# TODO 数据序列化\n",
    "user.json()  #  等同于json.dumps()  "
   ],
   "metadata": {
    "collapsed": false,
    "ExecuteTime": {
     "end_time": "2024-06-26T15:03:05.993050500Z",
     "start_time": "2024-06-26T15:03:05.986047600Z"
    }
   },
   "id": "e275cc1ba5057783"
  },
  {
   "cell_type": "code",
   "execution_count": 15,
   "outputs": [
    {
     "data": {
      "text/plain": "{'id': 1, 'username': 'john_doe', 'email': 'john.doe@example.com'}"
     },
     "execution_count": 15,
     "metadata": {},
     "output_type": "execute_result"
    }
   ],
   "source": [
    "user.dict()  #  json.loads()"
   ],
   "metadata": {
    "collapsed": false,
    "ExecuteTime": {
     "end_time": "2024-06-26T15:03:07.731326900Z",
     "start_time": "2024-06-26T15:03:07.717319Z"
    }
   },
   "id": "3527c69a2a855edf"
  },
  {
   "cell_type": "markdown",
   "source": [
    "### 自定义数据校验器"
   ],
   "metadata": {
    "collapsed": false
   },
   "id": "8e452ceaa63c1dc0"
  },
  {
   "cell_type": "code",
   "execution_count": 33,
   "outputs": [
    {
     "name": "stdout",
     "output_type": "stream",
     "text": [
      "username='john_doe' password='123a456789'\n"
     ]
    }
   ],
   "source": [
    "from pydantic import BaseModel, constr, validator,field_validator\n",
    "\n",
    "class User(BaseModel):\n",
    "    username: str\n",
    "    password: constr(min_length=8)\n",
    "\n",
    "    # @validator('password')  --已弃用\n",
    "    @field_validator('password')\n",
    "    def validate_password(cls, value):\n",
    "        # 校验是否包含 数字 isdigit()\n",
    "        if not any(char.isdigit() for char in value):\n",
    "            raise ValueError(\"Password must contain at least one digit\")\n",
    "        # 校验是否包含 字母 isalpha()\n",
    "        if not any(char.isalpha() for char in value):\n",
    "            raise ValueError(\"Password must contain at least one letter\")\n",
    "        return value\n",
    "\n",
    "# 创建用户对象并进行数据验证\n",
    "user_data = {\"username\": \"john_doe\", \"password\": \"123a456789\"}\n",
    "user = User(**user_data)\n",
    "print(user)"
   ],
   "metadata": {
    "collapsed": false,
    "ExecuteTime": {
     "end_time": "2024-06-26T15:26:58.791973800Z",
     "start_time": "2024-06-26T15:26:58.783975700Z"
    }
   },
   "id": "810b5c453c33e9df"
  },
  {
   "cell_type": "code",
   "execution_count": 31,
   "outputs": [
    {
     "data": {
      "text/plain": "False"
     },
     "execution_count": 31,
     "metadata": {},
     "output_type": "execute_result"
    }
   ],
   "source": [
    "eer = \"12312\"\n",
    "any(ss.isalpha() for ss in eer)"
   ],
   "metadata": {
    "collapsed": false,
    "ExecuteTime": {
     "end_time": "2024-06-26T15:22:06.353127300Z",
     "start_time": "2024-06-26T15:22:06.346727900Z"
    }
   },
   "id": "577eff4757f78377"
  },
  {
   "cell_type": "code",
   "execution_count": 27,
   "outputs": [
    {
     "data": {
      "text/plain": "[True, True, True, True, True]"
     },
     "execution_count": 27,
     "metadata": {},
     "output_type": "execute_result"
    }
   ],
   "source": [
    "[ss.isdigit() for ss in eer]"
   ],
   "metadata": {
    "collapsed": false,
    "ExecuteTime": {
     "end_time": "2024-06-26T15:17:09.933159700Z",
     "start_time": "2024-06-26T15:17:09.927157600Z"
    }
   },
   "id": "2e36966484ddb4fa"
  },
  {
   "cell_type": "code",
   "execution_count": null,
   "outputs": [],
   "source": [],
   "metadata": {
    "collapsed": false
   },
   "id": "4db82ab8fc978182"
  },
  {
   "cell_type": "markdown",
   "source": [
    "### 继承和扩展模型\n",
    "pydantic库支持模型的继承和扩展，可以在现有模型基础上定义新的模型。\n",
    "例如，定义一个管理员用户模型，继承自普通用户模型："
   ],
   "metadata": {
    "collapsed": false
   },
   "id": "618b94aa399a6ae1"
  },
  {
   "cell_type": "code",
   "execution_count": 34,
   "outputs": [
    {
     "name": "stdout",
     "output_type": "stream",
     "text": [
      "username='admin_user' email='admin@example.com' role='admin'\n"
     ]
    }
   ],
   "source": [
    "from pydantic import BaseModel\n",
    "\n",
    "class User(BaseModel):\n",
    "    username: str\n",
    "    email: str\n",
    "\n",
    "class AdminUser(User):\n",
    "    role: str = \"admin\"\n",
    "\n",
    "# 创建管理员用户对象并进行数据验证\n",
    "admin_data = {\"username\": \"admin_user\", \"email\": \"admin@example.com\", \"role\": \"admin\"}\n",
    "admin_user = AdminUser(**admin_data)\n",
    "print(admin_user)"
   ],
   "metadata": {
    "collapsed": false,
    "ExecuteTime": {
     "end_time": "2024-06-26T15:30:02.105428800Z",
     "start_time": "2024-06-26T15:30:02.064417700Z"
    }
   },
   "id": "f54bf1fd81fda69d"
  },
  {
   "cell_type": "markdown",
   "source": [
    "### 自定义序列化器和反序列化器\n",
    "pydantic库允许开发者定义自定义序列化器和反序列化器，以实现特定的数据格式转换。\n",
    "\n",
    "例如，定义一个自定义序列化器来将数据转换为XML格式："
   ],
   "metadata": {
    "collapsed": false
   },
   "id": "4e6fe47fdb068c1f"
  },
  {
   "cell_type": "code",
   "execution_count": 50,
   "outputs": [
    {
     "name": "stdout",
     "output_type": "stream",
     "text": [
      "<user><username>john_doe</username><email>john.doe@example.com</email></user>\n"
     ]
    },
    {
     "name": "stderr",
     "output_type": "stream",
     "text": [
      "C:\\Users\\un\\AppData\\Local\\Temp\\ipykernel_112052\\3854746271.py:7: PydanticDeprecatedSince20: Pydantic V1 style `@root_validator` validators are deprecated. You should migrate to Pydantic V2 style `@model_validator` validators, see the migration guide for more details. Deprecated in Pydantic V2.0 to be removed in V3.0. See Pydantic V2 Migration Guide at https://errors.pydantic.dev/2.7/migration/\n",
      "  @root_validator(skip_on_failure=True)\n"
     ]
    }
   ],
   "source": [
    "from pydantic import BaseModel, root_validator, model_validator\n",
    "\n",
    "class User(BaseModel):\n",
    "    username: str\n",
    "    email: str\n",
    "\n",
    "    @root_validator(skip_on_failure=True)\n",
    "    # @model_validator(mode='before')\n",
    "    def to_xml(cls, values):\n",
    "        xml_str = f\"<user><username>{values['username']}</username><email>{values['email']}</email></user>\"\n",
    "        return {\"xml_data\": xml_str}\n",
    "\n",
    "# 创建用户对象并进行数据转换\n",
    "u_data = {\"username\": \"john_doe\", \"email\": \"john.doe@example.com\"}\n",
    "user = User(**u_data)\n",
    "print(user.xml_data)"
   ],
   "metadata": {
    "collapsed": false,
    "ExecuteTime": {
     "end_time": "2024-06-26T15:42:57.598465800Z",
     "start_time": "2024-06-26T15:42:57.584461900Z"
    }
   },
   "id": "dd415ffc31758eb1"
  },
  {
   "cell_type": "code",
   "execution_count": null,
   "outputs": [],
   "source": [],
   "metadata": {
    "collapsed": false
   },
   "id": "d0d82bd0f8a76838"
  }
 ],
 "metadata": {
  "kernelspec": {
   "display_name": "Python 3",
   "language": "python",
   "name": "python3"
  },
  "language_info": {
   "codemirror_mode": {
    "name": "ipython",
    "version": 2
   },
   "file_extension": ".py",
   "mimetype": "text/x-python",
   "name": "python",
   "nbconvert_exporter": "python",
   "pygments_lexer": "ipython2",
   "version": "2.7.6"
  }
 },
 "nbformat": 4,
 "nbformat_minor": 5
}
